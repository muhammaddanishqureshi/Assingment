{
 "cells": [
  {
   "cell_type": "code",
   "execution_count": 1,
   "id": "fb2c595e",
   "metadata": {},
   "outputs": [],
   "source": [
    "import pandas as pd\n",
    "import numpy as np\n"
   ]
  },
  {
   "cell_type": "markdown",
   "id": "1ace601b",
   "metadata": {},
   "source": [
    "# Task 1: Create a dictionary of city and their respective zip codes. Then ask zip code from user and provide the name of city."
   ]
  },
  {
   "cell_type": "code",
   "execution_count": 3,
   "id": "b53743a1",
   "metadata": {},
   "outputs": [
    {
     "name": "stdout",
     "output_type": "stream",
     "text": [
      "Enter Zipcod 667\n",
      "Lahor\n"
     ]
    }
   ],
   "source": [
    "d={'69000':'Mirpurkhas', '1229':'Hyderabad','3445':'Karachi','667':'Lahor' }\n",
    "a=input(\"Enter Zipcod \")\n",
    "print(d[a])\n"
   ]
  },
  {
   "cell_type": "markdown",
   "id": "a9139c11",
   "metadata": {},
   "source": [
    "# task 2  Dictionary           Ask five names and their respective marks in first year "
   ]
  },
  {
   "cell_type": "code",
   "execution_count": 4,
   "id": "9762377f",
   "metadata": {},
   "outputs": [
    {
     "data": {
      "text/html": [
       "<div>\n",
       "<style scoped>\n",
       "    .dataframe tbody tr th:only-of-type {\n",
       "        vertical-align: middle;\n",
       "    }\n",
       "\n",
       "    .dataframe tbody tr th {\n",
       "        vertical-align: top;\n",
       "    }\n",
       "\n",
       "    .dataframe thead th {\n",
       "        text-align: right;\n",
       "    }\n",
       "</style>\n",
       "<table border=\"1\" class=\"dataframe\">\n",
       "  <thead>\n",
       "    <tr style=\"text-align: right;\">\n",
       "      <th></th>\n",
       "      <th>name</th>\n",
       "      <th>first year marks</th>\n",
       "      <th>total Marks</th>\n",
       "      <th>average marks</th>\n",
       "    </tr>\n",
       "  </thead>\n",
       "  <tbody>\n",
       "    <tr>\n",
       "      <th>0</th>\n",
       "      <td>shoaban Ali</td>\n",
       "      <td>1250</td>\n",
       "      <td>100</td>\n",
       "      <td>12.3</td>\n",
       "    </tr>\n",
       "    <tr>\n",
       "      <th>1</th>\n",
       "      <td>Waseem Ali</td>\n",
       "      <td>1050</td>\n",
       "      <td>80</td>\n",
       "      <td>10.3</td>\n",
       "    </tr>\n",
       "    <tr>\n",
       "      <th>2</th>\n",
       "      <td>Anas</td>\n",
       "      <td>950</td>\n",
       "      <td>90</td>\n",
       "      <td>9.3</td>\n",
       "    </tr>\n",
       "    <tr>\n",
       "      <th>3</th>\n",
       "      <td>Mahabat</td>\n",
       "      <td>850</td>\n",
       "      <td>70</td>\n",
       "      <td>8.3</td>\n",
       "    </tr>\n",
       "    <tr>\n",
       "      <th>4</th>\n",
       "      <td>Danish</td>\n",
       "      <td>750</td>\n",
       "      <td>60</td>\n",
       "      <td>7.3</td>\n",
       "    </tr>\n",
       "  </tbody>\n",
       "</table>\n",
       "</div>"
      ],
      "text/plain": [
       "          name first year marks  total Marks  average marks\n",
       "0  shoaban Ali             1250          100           12.3\n",
       "1   Waseem Ali             1050           80           10.3\n",
       "2         Anas              950           90            9.3\n",
       "3      Mahabat              850           70            8.3\n",
       "4       Danish              750           60            7.3"
      ]
     },
     "execution_count": 4,
     "metadata": {},
     "output_type": "execute_result"
    }
   ],
   "source": [
    "data = { 'name' : ['shoaban Ali', 'Waseem Ali', 'Anas','Mahabat','Danish'],\n",
    "'first year marks' : ['1250', '1050', '950','850','750'],\n",
    "'total Marks' : [100, 80, 90,70,60],\n",
    "'average marks' : [12.3, 10.3, 9.3,8.3,7.3]\n",
    "}\n",
    "df = pd.DataFrame(data)\n",
    "df"
   ]
  },
  {
   "cell_type": "markdown",
   "id": "3d45e1e2",
   "metadata": {},
   "source": [
    "# (A)     Ask five names and their respective marks in first year "
   ]
  },
  {
   "cell_type": "markdown",
   "id": "b9898c7b",
   "metadata": {},
   "source": [
    "# B. Calculate and print total marks of all students"
   ]
  },
  {
   "cell_type": "markdown",
   "id": "3505c955",
   "metadata": {},
   "source": [
    "# C. Calculate and print average marks of all students"
   ]
  },
  {
   "cell_type": "code",
   "execution_count": null,
   "id": "e4aade7f",
   "metadata": {},
   "outputs": [],
   "source": []
  }
 ],
 "metadata": {
  "kernelspec": {
   "display_name": "Python 3 (ipykernel)",
   "language": "python",
   "name": "python3"
  },
  "language_info": {
   "codemirror_mode": {
    "name": "ipython",
    "version": 3
   },
   "file_extension": ".py",
   "mimetype": "text/x-python",
   "name": "python",
   "nbconvert_exporter": "python",
   "pygments_lexer": "ipython3",
   "version": "3.9.12"
  }
 },
 "nbformat": 4,
 "nbformat_minor": 5
}
